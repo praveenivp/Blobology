{
 "cells": [
  {
   "cell_type": "markdown",
   "id": "7449fa1b-1c78-4c16-b770-e6572e7cf3f6",
   "metadata": {},
   "source": [
    "# Example: Simulating Turbo Spin Echo Sequences\n",
    "from: Extended phase graphs: Dephasing, RF pulses, and echoes - Pure and simple\n",
    "DOI: 10.1002/jmri.24619\n",
    "self implementaion with S operator!"
   ]
  },
  {
   "cell_type": "code",
   "execution_count": 176,
   "id": "2c30d8d9-6a67-433f-9cf9-c0263ec966f3",
   "metadata": {},
   "outputs": [
    {
     "name": "stdout",
     "output_type": "stream",
     "text": [
      "\n",
      " 1st pulse : 90y\n",
      "\n",
      " 2nd pulse : 120x\n",
      "\n",
      " 3rd pulse : 120x\n",
      "k=2 is S3_2[[ 0.06-0.j  ]\n",
      " [ 0.19-0.j  ]\n",
      " [-0.  -0.11j]]\n",
      "k=1 is S3_1[[-0.19+0.j  ]\n",
      " [ 0.94-0.j  ]\n",
      " [-0.  -0.11j]]\n",
      "\n",
      " 4th pulse : 120x\n",
      "k=3 is [[ 0.02-0.j  ]\n",
      " [ 0.05-0.j  ]\n",
      " [-0.  -0.03j]]\n",
      "k=2 is [[-0.14+0.j  ]\n",
      " [-0.05+0.j  ]\n",
      " [ 0.  +0.14j]]\n",
      "temp is [[ 0.94-0.j  ]\n",
      " [ 0.19-0.j  ]\n",
      " [-0.  -0.11j]]\n",
      "k=1 is [[ 0.28-0.j  ]\n",
      " [ 0.84-0.j  ]\n",
      " [-0.  -0.27j]]\n"
     ]
    }
   ],
   "source": [
    "import numpy as np\n",
    "\n",
    "def RFpulse(alpha,Phi):\n",
    "    #effect of RF pulse on F_k, F_k* and Z_k from \n",
    "    rotm=[ [np.cos(alpha/2)**2,np.exp(2*1j*Phi)*np.sin(alpha/2)**2, -1j*np.exp(1j*Phi)*np.sin(alpha)],\n",
    "         [np.exp(2*1j*Phi)*np.sin(alpha/2)**2,np.cos(alpha/2)**2,1j*np.exp(-1j*Phi)*np.sin(alpha)],\n",
    "         [-(0.5j)*np.exp(-1j*Phi)*np.sin(alpha),0.5j*np.exp(1j*Phi)*np.sin(alpha),np.cos(alpha)]]\n",
    "    return np.array(rotm)\n",
    "\n",
    "#testing Figure 12 of weigel et al 2015\n",
    "#90y pulse\n",
    "print(\"\\n 1st pulse : 90y\")\n",
    "rm=RFpulse(np.deg2rad(90),np.deg2rad(90))\n",
    "S0=np.zeros((3,1))\n",
    "S0[2,0]=1;\n",
    "S1=rm@S0\n",
    "#print(\"k=0 is\" + np.array_str(S1, precision=4, suppress_small=True))\n",
    "\n",
    "#120x pulse\n",
    "print(\"\\n 2nd pulse : 120x\")\n",
    "rm=RFpulse(np.deg2rad(120),np.deg2rad(0))\n",
    "S1_temp=np.zeros((3,1),dtype=complex)\n",
    "S1_temp[0]=S1[0]\n",
    "S2=rm@S1_temp\n",
    "\n",
    "#print(\"k=1 is \"+ np.array_str(S2, precision=2, suppress_small=True))\n",
    "\n",
    "\n",
    "#120x pulse\n",
    "print(\"\\n 3rd pulse : 120x\")\n",
    "rm=RFpulse(np.deg2rad(120),np.deg2rad(0))\n",
    "S2_temp=np.zeros((3,1),dtype=complex)\n",
    "S2_temp[0]=S2[0]\n",
    "S3_2=rm@S2_temp\n",
    "print(\"k=2 is S3_2\"+ np.array_str(S3_2, precision=2, suppress_small=True))\n",
    "\n",
    "S2_temp=np.zeros((3,1),dtype=complex)\n",
    "S2_temp[0]=S2[1]\n",
    "S2_temp[2]=S2[2]\n",
    "S3_1=rm@S2_temp\n",
    "print(\"k=1 is S3_1\" + np.array_str(S3_1, precision=2, suppress_small=True))\n",
    "\n",
    "\n",
    "\n",
    "#120x pulse\n",
    "print(\"\\n 4th pulse : 120x\")\n",
    "rm=RFpulse(np.deg2rad(120),np.deg2rad(0))\n",
    "S3_temp=np.zeros((3,1),dtype=complex)\n",
    "S3_temp[0]=S3_2[0]\n",
    "S4_3=rm@S3_temp\n",
    "print(\"k=3 is \"+ np.array_str(S4_3, precision=2, suppress_small=True))\n",
    "\n",
    "S3_temp=np.zeros((3,1),dtype=complex)\n",
    "S3_temp[0]=S3_1[0]\n",
    "S3_temp[2]=S3_2[2]\n",
    "#print(\"temp is \" + np.array_str(S3_temp, precision=2, suppress_small=True))\n",
    "S4_2=rm@S3_temp\n",
    "print(\"k=2 is \" + np.array_str(S4_2, precision=2, suppress_small=True))\n",
    "\n",
    "S3_temp=np.zeros((3,1),dtype=complex)\n",
    "S3_temp[0]=S3_1[1]\n",
    "S3_temp[1]=S3_2[1]\n",
    "S3_temp[2]=S3_1[2]\n",
    "print(\"temp is \" + np.array_str(S3_temp, precision=2, suppress_small=True))\n",
    "S4_1=rm@S3_temp\n",
    "print(\"k=1 is \" + np.array_str(S4_1, precision=2, suppress_small=True))\n",
    "\n"
   ]
  },
  {
   "cell_type": "markdown",
   "id": "6cd0c3ec-95de-4be6-9039-5d8fde064f19",
   "metadata": {},
   "source": [
    "# Example: Simulating Turbo Spin Echo Sequences\n",
    "\n",
    "Follow the paper as it is\n"
   ]
  },
  {
   "cell_type": "code",
   "execution_count": 184,
   "id": "25945483-d48c-4eda-af94-ac93e608a6b4",
   "metadata": {},
   "outputs": [
    {
     "name": "stdout",
     "output_type": "stream",
     "text": [
      "06m is \n",
      "[[ 0.84+0.j    0.  +0.j    0.28+0.j    0.  +0.j   -0.14-0.j    0.  +0.j\n",
      "   0.02+0.j  ]\n",
      " [ 0.84+0.j    0.  +0.j   -0.05-0.j    0.  +0.j    0.05+0.j    0.  +0.j\n",
      "   0.  +0.j  ]\n",
      " [ 0.  +0.j    0.  -0.27j  0.  +0.j   -0.  +0.14j  0.  +0.j    0.  -0.03j\n",
      "   0.  +0.j  ]]\n",
      "04m2 is \n",
      "[[ 0.94+0.j    0.  +0.j   -0.19-0.j    0.  +0.j    0.06+0.j  ]\n",
      " [ 0.94+0.j    0.  +0.j    0.19+0.j    0.  +0.j    0.  +0.j  ]\n",
      " [ 0.  +0.j    0.  -0.11j  0.  +0.j    0.  -0.11j  0.  +0.j  ]]\n"
     ]
    }
   ],
   "source": [
    "T90y=RFpulse(np.deg2rad(90),np.deg2rad(90))\n",
    "T120x=RFpulse(np.deg2rad(120),np.deg2rad(0))\n",
    "\n",
    "\n",
    "\n",
    "def applyS(Oin):\n",
    "    kmax=Oin.shape[1]\n",
    "    Oout=np.zeros((3,kmax+1),dtype=complex); \n",
    "    Oout[2,:-1]=Oin[2,:] # Fz doesn't evolved\n",
    "    Oout[0,1:]=Oin[0,0:] # dephasing order promotion\n",
    "    if(Oin.shape[1]>2):\n",
    "        Oout[1,1:-2]=Oin[1,2:]  # F-z demotion\n",
    "    if(Oin.shape[1]>1):\n",
    "        Oout[:2,0]=Oin[1,1] # F0 is wierd\n",
    "    return Oout\n",
    "\n",
    "\n",
    "O0=np.zeros((3,1)); O0[2]=1;\n",
    "O1=T90y@O0;\n",
    "\n",
    "#apply S\n",
    "O2m=np.zeros((3,2),dtype=complex); O2m[0,1]=O1[1,0]\n",
    "O2p=T120x@O2m\n",
    "\n",
    "#apply S or dephaing\n",
    "kmax=2\n",
    "O3m=applyS(O2p)\n",
    "\n",
    "# one more S\n",
    "kmax=3\n",
    "O3m2=applyS(O3m)\n",
    "\n",
    "# second refocussing pulse\n",
    "O3p=T120x@O3m2\n",
    "\n",
    "#apply S\n",
    "O4m=applyS(O3p)\n",
    "\n",
    "# one more S\n",
    "O4m2=applyS(O4m)\n",
    "\n",
    "#final and third 120x pulse\n",
    "O5p=T120x@O4m2\n",
    "#apply S\n",
    "O6m=applyS(O5p)\n",
    "\n",
    "print(\"06m is \\n\" + np.array_str(O6m ,precision=2, suppress_small=True))\n",
    "print(\"04m2 is \\n\" + np.array_str(O4m, precision=2, suppress_small=True))\n",
    "\n"
   ]
  },
  {
   "cell_type": "markdown",
   "id": "e3950803-0c63-415a-a012-395f5dc57e85",
   "metadata": {},
   "source": [
    "# Example: Simulating a Rapid Gradient Echo Sequence\n",
    "\n",
    "this time with relaxation effects as well"
   ]
  },
  {
   "cell_type": "code",
   "execution_count": null,
   "id": "72224972-337c-46ce-b410-7975a2975bb0",
   "metadata": {},
   "outputs": [],
   "source": []
  },
  {
   "cell_type": "code",
   "execution_count": 216,
   "id": "4d738939-33ad-4a54-bdda-5b951b6c37fc",
   "metadata": {},
   "outputs": [
    {
     "name": "stdout",
     "output_type": "stream",
     "text": [
      "[[0.  ]\n",
      " [0.  ]\n",
      " [0.01]]\n",
      "O1 \n",
      "[[ 0.  -0.43j  0.  -0.42j]\n",
      " [ 0.  +0.43j  0.  -0.03j]\n",
      " [ 0.75+0.j   -0.11+0.j  ]]\n"
     ]
    }
   ],
   "source": [
    "def Relax_E(E1,E2):\n",
    "    E_mat=np.zeros((3,3));\n",
    "    E_mat[0,0]=E2;\n",
    "    E_mat[1,1]=E2;\n",
    "    E_mat[2,2]=E1\n",
    "    E_rec=np.zeros((3,1))\n",
    "    E_rec[2]=1-E1\n",
    "    return E_mat,E_rec\n",
    "    \n",
    "\n",
    "Em,Er=Relax_E(0.99,0.9);\n",
    "#print(\"Relaxation matrix: \" ); print(Em)\n",
    "\n",
    "T30x=RFpulse(np.deg2rad(30),np.deg2rad(0))\n",
    "#print(\"T30x \\n\" + np.array_str(T30x, precision=2, suppress_small=True))\n",
    "\n",
    "O0=np.zeros((3,1)); O0[2]=1;\n",
    "O1p=T30x@O0;\n",
    "\n",
    "O2m=Em@applyS(O1p)\n",
    "O2m[2,0]=O2m[2,0]+Er[2]\n",
    "\n",
    "#second pulse\n",
    "O2p=T30x@O2m;\n",
    "\n",
    "def getnTR(N,RF,Em,Er,O0):\n",
    "    AllStates=O0;\n",
    "    for Npulse in range(N):\n",
    "        AllStates=Em@applyS(RF@AllStates)\n",
    "        AllStates[2,0]=AllStates[2,0]+Er[2]\n",
    "    AllStates=RF@AllStates # sig at TR+\n",
    "    return AllStates\n",
    "        \n",
    "print(Er)\n",
    "\n",
    "print(\"O1 \\n\" + np.array_str(getnTR(1,T30x,Em,Er,O0), precision=2, suppress_small=True))"
   ]
  },
  {
   "cell_type": "code",
   "execution_count": 251,
   "id": "587efe31-0553-42eb-82a0-181e89216eda",
   "metadata": {},
   "outputs": [],
   "source": [
    "N_echoes=200\n",
    "All_F0s=np.zeros((3,N_echoes+1),dtype=complex)\n",
    "All_F0s[2,0]=1;\n",
    "for idx in range(N_echoes):\n",
    "    temp=getnTR(idx+1,T30x,Em,Er,O0)\n",
    "    All_F0s[:,idx+1]=temp[:,0]\n",
    "    "
   ]
  },
  {
   "cell_type": "code",
   "execution_count": 258,
   "id": "1768a109-41db-4eeb-9625-9380a7dade6d",
   "metadata": {},
   "outputs": [
    {
     "data": {
      "image/png": "[encoded data removed]",
      "text/plain": [
       "<Figure size 640x480 with 1 Axes>"
      ]
     },
     "metadata": {},
     "output_type": "display_data"
    }
   ],
   "source": [
    "import matplotlib.pyplot as plt\n",
    "plt.plot(np.arange(0,N_echoes+1),np.abs(All_F0s[0,:]),label=\"|F0|\")\n",
    "plt.plot(np.arange(0,N_echoes+1),np.abs(All_F0s[2,:]),label=\"Z0\")\n",
    "plt.title(\" steady state amplitude is %.4f\"%np.abs(All_F0s[0,-1]))\n",
    "plt.legend()\n",
    "plt.xlabel(\"number of TR\")\n",
    "plt.show()\n",
    "#For this particular example, the steady state amplitude will be approximately 0.107"
   ]
  },
  {
   "cell_type": "code",
   "execution_count": null,
   "id": "cb8a6ec1-a0b3-49f3-a421-7facacd20aa5",
   "metadata": {},
   "outputs": [],
   "source": [
    "\n"
   ]
  }
 ],
 "metadata": {
  "kernelspec": {
   "display_name": "Python 3 (ipykernel)",
   "language": "python",
   "name": "python3"
  },
  "language_info": {
   "codemirror_mode": {
    "name": "ipython",
    "version": 3
   },
   "file_extension": ".py",
   "mimetype": "text/x-python",
   "name": "python",
   "nbconvert_exporter": "python",
   "pygments_lexer": "ipython3",
   "version": "3.8.10"
  }
 },
 "nbformat": 4,
 "nbformat_minor": 5
}
