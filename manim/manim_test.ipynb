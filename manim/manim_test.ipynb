{
 "cells": [
  {
   "cell_type": "code",
   "execution_count": 18,
   "id": "b1ba9f1e-fc60-4a91-8ce3-15855b07c3b6",
   "metadata": {},
   "outputs": [
    {
     "name": "stderr",
     "output_type": "stream",
     "text": [
      "                                                                                                                                                                                                              \r"
     ]
    },
    {
     "data": {
      "text/html": [
       "<video src=\"media/jupyter/DifferentRotations@2025-02-03@15-58-22.mp4\" controls autoplay loop style=\"max-width: 60%;\"  >\n",
       "      Your browser does not support the <code>video</code> element.\n",
       "    </video>"
      ],
      "text/plain": [
       "<IPython.core.display.Video object>"
      ]
     },
     "metadata": {},
     "output_type": "display_data"
    }
   ],
   "source": [
    "%%manim -v WARNING --disable_caching -qm DifferentRotations\n",
    "from manim import *\n",
    "class DifferentRotations(Scene):\n",
    "    def construct(self):\n",
    "        left_square = Square(color=BLUE, fill_opacity=0.7).shift(2 * LEFT)\n",
    "        right_square = Square(color=GREEN, fill_opacity=0.7).shift(2 * RIGHT)\n",
    "        self.play(\n",
    "            left_square.animate.rotate(PI), Rotate(right_square, angle=PI), run_time=2\n",
    "        )\n",
    "        self.wait()"
   ]
  },
  {
   "cell_type": "code",
   "execution_count": 26,
   "id": "ff5e30e1-713c-48fe-a7d3-e749cced7425",
   "metadata": {},
   "outputs": [
    {
     "ename": "TypeError",
     "evalue": "'type' object is not subscriptable",
     "output_type": "error",
     "traceback": [
      "\u001b[0;31m---------------------------------------------------------------------------\u001b[0m",
      "\u001b[0;31mTypeError\u001b[0m                                 Traceback (most recent call last)",
      "Cell \u001b[0;32mIn[26], line 1\u001b[0m\n\u001b[0;32m----> 1\u001b[0m \u001b[38;5;28;01mimport\u001b[39;00m \u001b[38;5;21;01mMRzeroCore\u001b[39;00m \u001b[38;5;28;01mas\u001b[39;00m \u001b[38;5;21;01mmr0\u001b[39;00m\n\u001b[1;32m      3\u001b[0m mr0\u001b[38;5;241m.\u001b[39mgenerate_brainweb_phantoms(\u001b[38;5;124m'\u001b[39m\u001b[38;5;124moutput\u001b[39m\u001b[38;5;124m'\u001b[39m, \u001b[38;5;124m'\u001b[39m\u001b[38;5;124m3T\u001b[39m\u001b[38;5;124m'\u001b[39m)\n",
      "File \u001b[0;32m~/.local/lib/python3.8/site-packages/MRzeroCore/__init__.py:5\u001b[0m\n\u001b[1;32m      3\u001b[0m \u001b[38;5;28;01mfrom\u001b[39;00m \u001b[38;5;21;01m.\u001b[39;00m\u001b[38;5;21;01mphantom\u001b[39;00m\u001b[38;5;21;01m.\u001b[39;00m\u001b[38;5;21;01mcustom_voxel_phantom\u001b[39;00m \u001b[38;5;28;01mimport\u001b[39;00m CustomVoxelPhantom\n\u001b[1;32m      4\u001b[0m \u001b[38;5;28;01mfrom\u001b[39;00m \u001b[38;5;21;01m.\u001b[39;00m\u001b[38;5;21;01mphantom\u001b[39;00m\u001b[38;5;21;01m.\u001b[39;00m\u001b[38;5;21;01msim_data\u001b[39;00m \u001b[38;5;28;01mimport\u001b[39;00m SimData\n\u001b[0;32m----> 5\u001b[0m \u001b[38;5;28;01mfrom\u001b[39;00m \u001b[38;5;21;01m.\u001b[39;00m\u001b[38;5;21;01mphantom\u001b[39;00m \u001b[38;5;28;01mimport\u001b[39;00m brainweb\n\u001b[1;32m      6\u001b[0m \u001b[38;5;28;01mfrom\u001b[39;00m \u001b[38;5;21;01m.\u001b[39;00m\u001b[38;5;21;01msimulation\u001b[39;00m\u001b[38;5;21;01m.\u001b[39;00m\u001b[38;5;21;01misochromat_sim\u001b[39;00m \u001b[38;5;28;01mimport\u001b[39;00m isochromat_sim\n\u001b[1;32m      7\u001b[0m \u001b[38;5;28;01mfrom\u001b[39;00m \u001b[38;5;21;01m.\u001b[39;00m\u001b[38;5;21;01msimulation\u001b[39;00m\u001b[38;5;21;01m.\u001b[39;00m\u001b[38;5;21;01mpre_pass\u001b[39;00m \u001b[38;5;28;01mimport\u001b[39;00m compute_graph, compute_graph_ext, Graph\n",
      "File \u001b[0;32m~/.local/lib/python3.8/site-packages/MRzeroCore/phantom/brainweb/__init__.py:5\u001b[0m\n\u001b[1;32m      1\u001b[0m \u001b[38;5;66;03m# The brainweb script contains tools for handling with Brainweb itself.\u001b[39;00m\n\u001b[1;32m      2\u001b[0m \u001b[38;5;66;03m# Because the API is not final yet, we just expose the very basic\u001b[39;00m\n\u001b[1;32m      3\u001b[0m \u001b[38;5;66;03m# download functionality here.\u001b[39;00m\n\u001b[1;32m      4\u001b[0m \u001b[38;5;28;01mimport\u001b[39;00m \u001b[38;5;21;01mos\u001b[39;00m\n\u001b[0;32m----> 5\u001b[0m \u001b[38;5;28;01mfrom\u001b[39;00m \u001b[38;5;21;01m.\u001b[39;00m \u001b[38;5;28;01mimport\u001b[39;00m brainweb\n\u001b[1;32m      6\u001b[0m \u001b[38;5;28;01mfrom\u001b[39;00m \u001b[38;5;21;01m.\u001b[39;00m\u001b[38;5;21;01mbrainweb\u001b[39;00m \u001b[38;5;28;01mimport\u001b[39;00m SUBJECTS\n\u001b[1;32m      9\u001b[0m \u001b[38;5;28;01mdef\u001b[39;00m \u001b[38;5;21mgenerate_phantom\u001b[39m(\n\u001b[1;32m     10\u001b[0m         subject: \u001b[38;5;28mint\u001b[39m,\n\u001b[1;32m     11\u001b[0m         output: \u001b[38;5;28mstr\u001b[39m \u001b[38;5;241m=\u001b[39m os\u001b[38;5;241m.\u001b[39mpath\u001b[38;5;241m.\u001b[39mjoin(os\u001b[38;5;241m.\u001b[39mgetcwd(), \u001b[38;5;124m\"\u001b[39m\u001b[38;5;124mbrainweb\u001b[39m\u001b[38;5;124m\"\u001b[39m),\n\u001b[1;32m     12\u001b[0m         scale: \u001b[38;5;28mint\u001b[39m \u001b[38;5;241m=\u001b[39m \u001b[38;5;241m1\u001b[39m\n\u001b[1;32m     13\u001b[0m         ):\n",
      "File \u001b[0;32m~/.local/lib/python3.8/site-packages/MRzeroCore/phantom/brainweb/brainweb.py:28\u001b[0m\n\u001b[1;32m     23\u001b[0m     FAT \u001b[38;5;241m=\u001b[39m \u001b[38;5;241m4\u001b[39m  \u001b[38;5;66;03m# includes skin, muscles, dura, connective\u001b[39;00m\n\u001b[1;32m     24\u001b[0m     \u001b[38;5;66;03m# Missing: Skull / Marrow\u001b[39;00m\n\u001b[1;32m     27\u001b[0m \u001b[38;5;129m@dataclass\u001b[39m\n\u001b[0;32m---> 28\u001b[0m \u001b[38;5;28;01mclass\u001b[39;00m \u001b[38;5;21;01mTissue\u001b[39;00m:\n\u001b[1;32m     29\u001b[0m     \u001b[38;5;66;03m# The names under which brainweb provides the files\u001b[39;00m\n\u001b[1;32m     30\u001b[0m     download_aliases: \u001b[38;5;28mlist\u001b[39m[\u001b[38;5;28mstr\u001b[39m]\n\u001b[1;32m     31\u001b[0m     \u001b[38;5;66;03m# Normalized value: water has a density of 1\u001b[39;00m\n",
      "File \u001b[0;32m~/.local/lib/python3.8/site-packages/MRzeroCore/phantom/brainweb/brainweb.py:30\u001b[0m, in \u001b[0;36mTissue\u001b[0;34m()\u001b[0m\n\u001b[1;32m     27\u001b[0m \u001b[38;5;129m@dataclass\u001b[39m\n\u001b[1;32m     28\u001b[0m \u001b[38;5;28;01mclass\u001b[39;00m \u001b[38;5;21;01mTissue\u001b[39;00m:\n\u001b[1;32m     29\u001b[0m     \u001b[38;5;66;03m# The names under which brainweb provides the files\u001b[39;00m\n\u001b[0;32m---> 30\u001b[0m     download_aliases: \u001b[38;5;28;43mlist\u001b[39;49m\u001b[43m[\u001b[49m\u001b[38;5;28;43mstr\u001b[39;49m\u001b[43m]\u001b[49m\n\u001b[1;32m     31\u001b[0m     \u001b[38;5;66;03m# Normalized value: water has a density of 1\u001b[39;00m\n\u001b[1;32m     32\u001b[0m     pd: \u001b[38;5;28mfloat\u001b[39m\n",
      "\u001b[0;31mTypeError\u001b[0m: 'type' object is not subscriptable"
     ]
    }
   ],
   "source": [
    "import MRzeroCore as mr0\n",
    "\n",
    "mr0.generate_brainweb_phantoms('output', '3T')\n"
   ]
  },
  {
   "cell_type": "code",
   "execution_count": 12,
   "id": "418f129a-916b-4c4a-ae90-dc8f58e89cc5",
   "metadata": {},
   "outputs": [],
   "source": [
    "from manim import *\n",
    "\n",
    "class ManimCELogo(Scene):\n",
    "    def construct(self):\n",
    "        self.camera.background_color = \"#ece6e2\"\n",
    "        logo_green = \"#87c2a5\"\n",
    "        logo_blue = \"#525893\"\n",
    "        logo_red = \"#e07a5f\"\n",
    "        logo_black = \"#343434\"\n",
    "        ds_m = MathTex(r\"\\mathbb{M}\", fill_color=logo_black).scale(7)\n",
    "        ds_m.shift(2.25 * LEFT + 1.5 * UP)\n",
    "        circle = Circle(color=logo_green, fill_opacity=1).shift(LEFT)\n",
    "        square = Square(color=logo_blue, fill_opacity=1).shift(UP)\n",
    "        triangle = Triangle(color=logo_red, fill_opacity=1).shift(RIGHT)\n",
    "        logo = VGroup(triangle, square, circle, ds_m)  # order matters\n",
    "        logo.move_to(ORIGIN)\n",
    "        self.add(logo)\n"
   ]
  }
 ],
 "metadata": {
  "kernelspec": {
   "display_name": "Python 3 (ipykernel)",
   "language": "python",
   "name": "python3"
  },
  "language_info": {
   "codemirror_mode": {
    "name": "ipython",
    "version": 3
   },
   "file_extension": ".py",
   "mimetype": "text/x-python",
   "name": "python",
   "nbconvert_exporter": "python",
   "pygments_lexer": "ipython3",
   "version": "3.8.10"
  }
 },
 "nbformat": 4,
 "nbformat_minor": 5
}
